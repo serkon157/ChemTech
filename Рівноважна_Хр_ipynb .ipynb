{
  "nbformat": 4,
  "nbformat_minor": 0,
  "metadata": {
    "colab": {
      "provenance": []
    },
    "kernelspec": {
      "name": "python3",
      "display_name": "Python 3"
    },
    "language_info": {
      "name": "python"
    }
  },
  "cells": [
    {
      "cell_type": "markdown",
      "metadata": {
        "id": "w_5FkA8XBSWl"
      },
      "source": [
        "До лекції з ЗХТ-1 #16 https://youtu.be/ho3K2Y6LsT0\n",
        "Завдання - реалізувати розрахунок для 3-х температурних режимів"
      ]
    },
    {
      "cell_type": "code",
      "metadata": {
        "colab": {
          "base_uri": "https://localhost:8080/"
        },
        "id": "FPh3pz4Go8sc",
        "outputId": "380d312b-ae8f-43c8-82db-5935693152be"
      },
      "source": [
        "from scipy.optimize import fsolve\n",
        "def equations(p):\n",
        "    x,y,z = p\n",
        "    return (x**2+y*x-10, x*y + y**2 +z*x+5,z**2+3*x*z-5)\n",
        "x, y,z = fsolve(equations, (0, 0,0))\n",
        "print(x,y,z)\n",
        "print(equations((x, y,z)))"
      ],
      "execution_count": null,
      "outputs": [
        {
          "output_type": "stream",
          "name": "stdout",
          "text": [
            "5.452718778819922 -3.618771273790097 0.30015055151811104\n",
            "(4.6071590986684896e-11, -1.049915709927518e-10, -2.1549162454448378e-10)\n"
          ]
        }
      ]
    },
    {
      "cell_type": "code",
      "source": [
        "from scipy.optimize import fsolve\n",
        "def equations(p):\n",
        "    x = p\n",
        "    return (-x**2+2*x+3)\n",
        "x = fsolve(equations, (0))\n",
        "print(x)\n",
        "print(equations(x))"
      ],
      "metadata": {
        "colab": {
          "base_uri": "https://localhost:8080/"
        },
        "id": "C2YFVuIZ2l28",
        "outputId": "d3f64475-bc90-4469-ac9e-130a08532181"
      },
      "execution_count": null,
      "outputs": [
        {
          "output_type": "stream",
          "name": "stdout",
          "text": [
            "[-1.]\n",
            "[-8.8817842e-16]\n"
          ]
        }
      ]
    },
    {
      "cell_type": "markdown",
      "source": [
        "Рівноважна ступень перетворення: [Пояснення](https://docs.google.com/document/d/1PUBvQBCRsf41Iin0mzVyHlTKudeK75CA-ukNJlkgDgM/edit?usp=sharing)\n",
        "\n",
        "Вихідні дані\n",
        "\n",
        "Реакція: 0.5N2 + 1.5H2 = NH3 ;\n",
        "lgKp = 2074.8/T - 2.4943lgT - 0.0001256T + 1.8567e-7*T**2 + 2.206\n",
        "Концентрації (початкові), частки: N2 - 0.21; H2 - 0.6577; NH3 - 0.0323; інертних газів -\n",
        "0.1. Температура Т, К - 693. Тиск Р, атм - 320."
      ],
      "metadata": {
        "id": "7NWC-nUd3571"
      }
    },
    {
      "cell_type": "code",
      "source": [
        "L1=0.5; L2=1.5; L3=1; L4=0\n",
        "d = L3 + L4 - L1 -L2\n",
        "A=0.21; B=0.6577; C=0.0323; D=0\n",
        "P=320\n",
        "x=0.569\n",
        "Kp=(P/(1+A*x*d/L1))**d * (C+A*x*L3/L1)**L3 * (D+A*x*L4/L1)**L4 * (A-A*x)**-L1 * (B-A*x*L2/L1)**-L2\n",
        "Kp"
      ],
      "metadata": {
        "colab": {
          "base_uri": "https://localhost:8080/"
        },
        "id": "7teJRUqz759u",
        "outputId": "817acecf-5df0-4cd9-a6a6-8627da76210e"
      },
      "execution_count": null,
      "outputs": [
        {
          "output_type": "execute_result",
          "data": {
            "text/plain": [
              "0.013101103799104992"
            ]
          },
          "metadata": {},
          "execution_count": 3
        }
      ]
    },
    {
      "cell_type": "code",
      "source": [
        "import math\n",
        "T=693\n",
        "P=320\n",
        "lgKp = 2074.8/T - 2.4943*math.log10(T) - 0.0001256*T + 1.8567e-7*T**2 + 2.206\n",
        "Kp = 10**lgKp\n",
        "lgKp, Kp"
      ],
      "metadata": {
        "colab": {
          "base_uri": "https://localhost:8080/"
        },
        "id": "kjw-lrG86JQu",
        "outputId": "91bbfb86-90b5-499e-a933-7e8469545df7"
      },
      "execution_count": null,
      "outputs": [
        {
          "output_type": "execute_result",
          "data": {
            "text/plain": [
              "(-1.8835744813228348, 0.013074512923393723)"
            ]
          },
          "metadata": {},
          "execution_count": 4
        }
      ]
    },
    {
      "cell_type": "code",
      "source": [
        "from scipy.optimize import fsolve\n",
        "def equation(p):\n",
        "    x = p\n",
        "    return (Kp - (P/(1+A*x*d/L1))**d * (C+A*x*L3/L1)**L3 * (D+A*x*L4/L1)**L4 * (A-A*x)**-L1 * (B-A*x*L2/L1)**-L2)\n",
        "x = fsolve(equation, (0.3))\n",
        "print(x)\n",
        "print(equation(x))\n",
        "Kp"
      ],
      "metadata": {
        "colab": {
          "base_uri": "https://localhost:8080/"
        },
        "id": "6wMXzgWfPck7",
        "outputId": "f412fbad-33cd-42ac-a9ee-7523d71c0398"
      },
      "execution_count": null,
      "outputs": [
        {
          "output_type": "stream",
          "name": "stdout",
          "text": [
            "[0.56861761]\n",
            "[1.73472348e-18]\n"
          ]
        },
        {
          "output_type": "execute_result",
          "data": {
            "text/plain": [
              "0.013074512923393723"
            ]
          },
          "metadata": {},
          "execution_count": 5
        }
      ]
    }
  ]
}